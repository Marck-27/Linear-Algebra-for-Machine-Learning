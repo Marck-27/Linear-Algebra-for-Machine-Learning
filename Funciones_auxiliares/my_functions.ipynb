{
 "metadata": {
  "language_info": {
   "codemirror_mode": {
    "name": "ipython",
    "version": 3
   },
   "file_extension": ".py",
   "mimetype": "text/x-python",
   "name": "python",
   "nbconvert_exporter": "python",
   "pygments_lexer": "ipython3",
   "version": "3.8.5"
  },
  "orig_nbformat": 2,
  "kernelspec": {
   "name": "python3",
   "display_name": "Python 3",
   "language": "python"
  }
 },
 "nbformat": 4,
 "nbformat_minor": 2,
 "cells": [
  {
   "cell_type": "code",
   "execution_count": 1,
   "metadata": {},
   "outputs": [],
   "source": [
    "def graficarVectores(vectors, vectors_color, alpha = 1):\n",
    "    \n",
    "    # Ejes coordenados:\n",
    "    plt.axvline(x=0, color = \"grey\", zorder = 0)\n",
    "    plt.axhline(y=0, color = \"grey\", zorder = 0)\n",
    "\n",
    "    # Graficamos los vectores:\n",
    "    for i in range(len(vectors)):\n",
    "        x = np.concatenate( [[0,0], vectors[i]] )\n",
    "        plt.quiver ([x[0]],\n",
    "                    [x[1]],\n",
    "                    [x[2]],\n",
    "                    [x[3]],\n",
    "                    angles = 'xy', scale_units='xy',\n",
    "                    scale=1,\n",
    "                    color=vectors_color[i],\n",
    "                    alpha = alpha\n",
    "                    )"
   ]
  },
  {
   "cell_type": "code",
   "execution_count": null,
   "metadata": {},
   "outputs": [],
   "source": [
    "def graficarMatriz(M, colores=['red','blue']):\n",
    "\n",
    "    # coordenadas del circulo unitario:\n",
    "    x = np.linspace(-1,1,100000)\n",
    "    y_positivo = np.sqrt(1-(x**2))\n",
    "    y_negativo = -y_positivo \n",
    "\n",
    "    # circulo unitatio transformado (parte +):\n",
    "    x1 = M[0,0]*x + M[0,1]*y_positivo\n",
    "    y1 = M[1,0]*x + M[1,1]*y_positivo\n",
    "\n",
    "    # circulo unitatio transformado (parte -):\n",
    "    x1_neg = M[0,0]*x + M[0,1]*y_negativo\n",
    "    y1_neg = M[1,0]*x + M[1,1]*y_negativo   \n",
    "\n",
    "    # llamamos a la función 'graficarVectores' y la aplicamos a las columnas de M:\n",
    "    u1 = M[:,0]\n",
    "    v1 = M[:,1]\n",
    "    graficarVectores([u1,v1], [colores[0], colores[1]])\n",
    "\n",
    "    # graficamos las coordenadas del circulo unitatio ya transformadas:\n",
    "    plt.plot(x1,y1,'green', alpha=0.7)\n",
    "    plt.plot(x1_neg,y1_neg,'green', alpha=0.7)"
   ]
  },
  {
   "cell_type": "code",
   "execution_count": 1,
   "metadata": {},
   "outputs": [],
   "source": [
    "def graficarMatriz2(M, colores=['red','blue']):\n",
    "\n",
    "    n = 10000\n",
    "    t = np.linspace(0, 2*np.pi, n ) # <-- parametro\n",
    "\n",
    "    # coordenadas del circulo unitario:\n",
    "    x = np.sin(t)\n",
    "    y = np.cos(t)\n",
    "\n",
    "    # transformación de las coordenadas del circulo unitario:\n",
    "    xt = np.zeros( x.shape )\n",
    "    yt = np.zeros( y.shape )    \n",
    "    for i in range(n):\n",
    "        # aplicamos la transformación: \n",
    "        xt[i] , yt[i] = np.dot(M , [x[i],y[i]] )\n",
    "\n",
    "    # graficamos las coordenadas del circulo unitatio ya transformadas:\n",
    "    plt.plot(xt,yt,'green', alpha=0.7)\n",
    "\n",
    "    \n",
    "    # llamamos a la función 'graficarVectores' y la aplicamos a las columnas de M:\n",
    "    u1 = M[:,0]\n",
    "    v1 = M[:,1]\n",
    "    graficarVectores([u1,v1], [colores[0], colores[1]])"
   ]
  },
  {
   "cell_type": "code",
   "execution_count": null,
   "metadata": {},
   "outputs": [],
   "source": []
  }
 ]
}