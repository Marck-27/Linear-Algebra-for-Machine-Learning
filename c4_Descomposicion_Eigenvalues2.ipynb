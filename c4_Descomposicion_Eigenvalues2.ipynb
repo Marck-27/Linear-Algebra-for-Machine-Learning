{
 "metadata": {
  "language_info": {
   "codemirror_mode": {
    "name": "ipython",
    "version": 3
   },
   "file_extension": ".py",
   "mimetype": "text/x-python",
   "name": "python",
   "nbconvert_exporter": "python",
   "pygments_lexer": "ipython3",
   "version": "3.8.5"
  },
  "orig_nbformat": 2,
  "kernelspec": {
   "name": "python3",
   "display_name": "Python 3",
   "language": "python"
  }
 },
 "nbformat": 4,
 "nbformat_minor": 2,
 "cells": [
  {
   "source": [
    "# Proyecto: Descompocisión de matrices en términos de sus eigenvalores y eigenvectores"
   ],
   "cell_type": "markdown",
   "metadata": {}
  },
  {
   "cell_type": "code",
   "execution_count": 2,
   "metadata": {},
   "outputs": [],
   "source": [
    "%matplotlib inline\n",
    "\n",
    "import numpy as np \n",
    "\n",
    "import matplotlib.pyplot as plt \n",
    "\n",
    "# Importamos nuestra función para graficar. \n",
    "%run './Funciones_auxiliares/my_functions.ipynb'"
   ]
  },
  {
   "source": [
    "## Descomposición 1:\n",
    "\n",
    "Si $A$ es cuadrada con $det(A)\\neq 0$, se puede descomponer como:\n",
    "\n",
    "$A = V * L * V ^{-1}$, \n",
    "\n",
    "donde $V$ es una matriz de Eigenvectores de $A$\n",
    "\n",
    "y $L$ es una matriz diaginal de los Eigenvalores de $A$\n"
   ],
   "cell_type": "markdown",
   "metadata": {}
  },
  {
   "cell_type": "code",
   "execution_count": 3,
   "metadata": {},
   "outputs": [
    {
     "output_type": "stream",
     "name": "stdout",
     "text": [
      "A = \n [[ 3  2  0  1]\n [ 1  0  4  1]\n [ 0  1  5  7]\n [ 7  4 -1  0]]\n"
     ]
    }
   ],
   "source": [
    "# Matriz:\n",
    "A = np.array([ [3,2,0,1], [1,0,4,1],[0,1,5,7],[7,4,-1,0] ])\n",
    "print('A = \\n',A)"
   ]
  },
  {
   "cell_type": "code",
   "execution_count": 7,
   "metadata": {},
   "outputs": [],
   "source": [
    "# Obtenemos los Eigenvalores y Eigenvectores:\n",
    "eigenvals, eigenvecs=np.linalg.eig(A)\n",
    "\n",
    "#print('Eigenvalores = ',eigenvals)\n",
    "\n",
    "#print('\\nEigenvectores = ',eigenvecs)\n"
   ]
  },
  {
   "cell_type": "code",
   "execution_count": 8,
   "metadata": {},
   "outputs": [],
   "source": [
    "# Matriz de eigenvectores:\n",
    "V = eigenvecs\n",
    "\n",
    "# Matriz diagonal de eigenvalores:\n",
    "L = np.diag(eigenvals)\n",
    "\n",
    "# Matriz de eigenvectores inversa:\n",
    "iV=np.linalg.inv(V)"
   ]
  },
  {
   "source": [
    "### Obs: Como la matriz $V*L*V^{-1}$ es compleja, solo nos quedamos con la parte real"
   ],
   "cell_type": "markdown",
   "metadata": {}
  },
  {
   "cell_type": "code",
   "execution_count": 16,
   "metadata": {},
   "outputs": [
    {
     "output_type": "stream",
     "name": "stdout",
     "text": [
      "V*L*iV = \n [[ 3.00000000e+00  2.00000000e+00  1.43606808e-15  1.00000000e+00]\n [ 1.00000000e+00  1.74236429e-16  4.00000000e+00  1.00000000e+00]\n [ 2.14544355e-16  1.00000000e+00  5.00000000e+00  7.00000000e+00]\n [ 7.00000000e+00  4.00000000e+00 -1.00000000e+00 -1.20113296e-15]]\n\nA = \n [[ 3  2  0  1]\n [ 1  0  4  1]\n [ 0  1  5  7]\n [ 7  4 -1  0]]\n"
     ]
    }
   ],
   "source": [
    "# Comprobación: A = V*L*iV\n",
    "AA = np.dot( np.dot(V,L) , iV)\n",
    "AA = np.real(AA) # <-- obtenemos la parte real\n",
    "\n",
    "print('V*L*iV = \\n',AA)\n",
    "print('\\nA = \\n',A)"
   ]
  },
  {
   "cell_type": "code",
   "execution_count": null,
   "metadata": {},
   "outputs": [],
   "source": []
  }
 ]
}