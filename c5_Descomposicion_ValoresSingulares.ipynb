{
 "metadata": {
  "language_info": {
   "codemirror_mode": {
    "name": "ipython",
    "version": 3
   },
   "file_extension": ".py",
   "mimetype": "text/x-python",
   "name": "python",
   "nbconvert_exporter": "python",
   "pygments_lexer": "ipython3",
   "version": "3.8.5"
  },
  "orig_nbformat": 2,
  "kernelspec": {
   "name": "python3",
   "display_name": "Python 3.8.5 64-bit"
  },
  "interpreter": {
   "hash": "31f2aee4e71d21fbe5cf8b01ff0e069b9275f58929596ceb00d14d90e3e16cd6"
  }
 },
 "nbformat": 4,
 "nbformat_minor": 2,
 "cells": [
  {
   "source": [
    "# Proyecto: Descompocisión de matrices en términos de sus valores singulares"
   ],
   "cell_type": "markdown",
   "metadata": {}
  },
  {
   "cell_type": "code",
   "execution_count": 1,
   "metadata": {},
   "outputs": [],
   "source": [
    "import numpy as np \n",
    "\n",
    "import matplotlib.pyplot as plt \n",
    "\n"
   ]
  },
  {
   "cell_type": "code",
   "execution_count": 2,
   "metadata": {},
   "outputs": [
    {
     "output_type": "stream",
     "name": "stdout",
     "text": [
      "A =\n [[1 2 3]\n [3 4 5]]\n"
     ]
    }
   ],
   "source": [
    "# Matriz\n",
    "A = np.array([ [1,2,3], [3,4,5] ])\n",
    "print('A =\\n',A)"
   ]
  },
  {
   "cell_type": "code",
   "execution_count": 3,
   "metadata": {},
   "outputs": [
    {
     "output_type": "stream",
     "name": "stdout",
     "text": [
      "U = \n [[-0.46410668 -0.88577931]\n [-0.88577931  0.46410668]]\n\nD = \n [[7.97638869 0.        ]\n [0.         0.61418515]]\n\nV = \n [[-0.39133557 -0.5605708  -0.72980603]\n [ 0.8247362   0.13817999 -0.54837623]\n [ 0.40824829 -0.81649658  0.40824829]]\n"
     ]
    }
   ],
   "source": [
    "# Obtenemos los valores singulares:\n",
    "\n",
    "U,D,V = np.linalg.svd(A)\n",
    "D = np.diag(D)\n",
    "# Cada matriz represnta una serie de transformaciones que definene la matriz original:\n",
    "# U <-- Primer rotación de la base\n",
    "# D <-- Escalamiento (Valores singulaes)\n",
    "# V <-- Segunda rotación de la base\n",
    "\n",
    "\n",
    "print('U = \\n',U)\n",
    "\n",
    "print('\\nD = \\n', D)\n",
    "\n",
    "print('\\nV = \\n',V)"
   ]
  },
  {
   "cell_type": "code",
   "execution_count": null,
   "metadata": {},
   "outputs": [],
   "source": []
  }
 ]
}