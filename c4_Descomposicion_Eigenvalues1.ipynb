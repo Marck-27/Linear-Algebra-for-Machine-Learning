{
 "metadata": {
  "language_info": {
   "codemirror_mode": {
    "name": "ipython",
    "version": 3
   },
   "file_extension": ".py",
   "mimetype": "text/x-python",
   "name": "python",
   "nbconvert_exporter": "python",
   "pygments_lexer": "ipython3",
   "version": "3.8.10"
  },
  "orig_nbformat": 2,
  "kernelspec": {
   "name": "python3",
   "display_name": "Python 3.8.10 64-bit"
  },
  "interpreter": {
   "hash": "31f2aee4e71d21fbe5cf8b01ff0e069b9275f58929596ceb00d14d90e3e16cd6"
  }
 },
 "nbformat": 4,
 "nbformat_minor": 2,
 "cells": [
  {
   "source": [
    "# Proyecto: Descompocisión de matrices en términos de sus eigenvalores y eigenvectores"
   ],
   "cell_type": "markdown",
   "metadata": {}
  },
  {
   "cell_type": "code",
   "execution_count": 1,
   "metadata": {},
   "outputs": [],
   "source": [
    "%matplotlib inline\n",
    "\n",
    "import numpy as np \n",
    "\n",
    "import matplotlib.pyplot as plt \n",
    "\n",
    "# Importamos nuestra función para graficar. \n",
    "%run './Funciones_auxiliares/my_functions.ipynb'"
   ]
  },
  {
   "source": [
    "## Descomposición 1:\n",
    "\n",
    "Si $A$ es cuadrada con $det(A)\\neq 0$, se puede descomponer como:\n",
    "\n",
    "$A = V * L * V ^{-1}$, \n",
    "\n",
    "donde $V$ es una matriz de Eigenvectores de $A$\n",
    "\n",
    "y $L$ es una matriz diaginal de los Eigenvalores de $A$\n"
   ],
   "cell_type": "markdown",
   "metadata": {}
  },
  {
   "cell_type": "code",
   "execution_count": 2,
   "metadata": {},
   "outputs": [
    {
     "output_type": "stream",
     "name": "stdout",
     "text": [
      "A = \n [[3 2]\n [4 1]]\n"
     ]
    }
   ],
   "source": [
    "# Matriz:\n",
    "A = np.array([ [3,2],[4,1] ])\n",
    "print('A = \\n',A)"
   ]
  },
  {
   "cell_type": "code",
   "execution_count": 3,
   "metadata": {},
   "outputs": [
    {
     "output_type": "stream",
     "name": "stdout",
     "text": [
      "l1 =  5.0\nv1 =  [0.70710678 0.70710678]\n\nl2 =  -1.0\nv2 =  [-0.4472136   0.89442719]\n"
     ]
    }
   ],
   "source": [
    "# Obtenemos los Eigenvalores y Eigenvectores:\n",
    "eigenvals, eigenvecs=np.linalg.eig(A)\n",
    "\n",
    "# Extraemos los eigenvalores:\n",
    "lam1=eigenvals[0]\n",
    "lam2=eigenvals[1]\n",
    "\n",
    "# Extraemos los eigenvectores:\n",
    "v1=eigenvecs[:,0]\n",
    "v2=eigenvecs[:,1]\n",
    "\n",
    "print('l1 = ',lam1)\n",
    "print('v1 = ',v1)\n",
    "print('\\nl2 = ',lam2)\n",
    "print('v2 = ',v2)\n"
   ]
  },
  {
   "cell_type": "code",
   "execution_count": 4,
   "metadata": {},
   "outputs": [],
   "source": [
    "# Matriz de eigenvectores:\n",
    "V = eigenvecs\n",
    "\n",
    "# Matriz diagonal de eigenvalores:\n",
    "L = np.diag(eigenvals)\n",
    "\n",
    "# Matriz de eigenvectores inversa:\n",
    "iV=np.linalg.inv(V)"
   ]
  },
  {
   "cell_type": "code",
   "execution_count": 5,
   "metadata": {},
   "outputs": [
    {
     "output_type": "stream",
     "name": "stdout",
     "text": [
      "V*L*iV = \n [[3. 2.]\n [4. 1.]]\n\nA = \n [[3 2]\n [4 1]]\n"
     ]
    }
   ],
   "source": [
    "# Comprobación: A = V*L*iV\n",
    "AA = np.dot( np.dot(V,L) , iV)\n",
    "\n",
    "print('V*L*iV = \\n',AA)\n",
    "print('\\nA = \\n',A)"
   ]
  },
  {
   "source": [
    "## Descomposición 2:\n",
    "\n",
    "Si $A$ es real y simétrica, ie. $A=A^{T}$, se puede descomponer como:\n",
    "\n",
    "$A = V * L * V ^{T}$, \n",
    "\n",
    "donde $V$ es una matriz de Eigenvectores de $A$\n",
    "\n",
    "y $L$ es una matriz diaginal de los Eigenvalores de $A$\n"
   ],
   "cell_type": "markdown",
   "metadata": {}
  },
  {
   "cell_type": "code",
   "execution_count": 6,
   "metadata": {},
   "outputs": [
    {
     "output_type": "execute_result",
     "data": {
      "text/plain": [
       "array([[3, 2],\n",
       "       [2, 3]])"
      ]
     },
     "metadata": {},
     "execution_count": 6
    }
   ],
   "source": [
    "# Matriz A:\n",
    "A = np.array([ [3,2], [2,3] ])\n",
    "A"
   ]
  },
  {
   "cell_type": "code",
   "execution_count": 7,
   "metadata": {},
   "outputs": [
    {
     "output_type": "stream",
     "name": "stdout",
     "text": [
      "l1 =  5.0\nv1 =  [0.70710678 0.70710678]\n\nl2 =  1.0000000000000004\nv2 =  [-0.70710678  0.70710678]\n"
     ]
    }
   ],
   "source": [
    "# Obtenemos los Eigenvalores y Eigenvectores:\n",
    "eigenvals, eigenvecs=np.linalg.eig(A)\n",
    "\n",
    "# Extraemos los eigenvalores:\n",
    "lam1=eigenvals[0]\n",
    "lam2=eigenvals[1]\n",
    "\n",
    "# Extraemos los eigenvectores:\n",
    "v1=eigenvecs[:,0]\n",
    "v2=eigenvecs[:,1]\n",
    "\n",
    "print('l1 = ',lam1)\n",
    "print('v1 = ',v1)\n",
    "print('\\nl2 = ',lam2)\n",
    "print('v2 = ',v2)"
   ]
  },
  {
   "cell_type": "code",
   "execution_count": 8,
   "metadata": {},
   "outputs": [],
   "source": [
    "# Matriz de eigenvectores:\n",
    "V = eigenvecs\n",
    "\n",
    "# Matriz diagonal de eigenvalores:\n",
    "L = np.diag(eigenvals)\n",
    "\n",
    "# Matriz de eigenvectores TRANSPUESTA:\n",
    "Vt=V.T"
   ]
  },
  {
   "cell_type": "code",
   "execution_count": 9,
   "metadata": {},
   "outputs": [
    {
     "output_type": "stream",
     "name": "stdout",
     "text": [
      "V*L*iV = \n [[3. 2.]\n [2. 3.]]\n\nA = \n [[3 2]\n [2 3]]\n"
     ]
    }
   ],
   "source": [
    "# Comprobación: A = V*L*Vt\n",
    "AA = np.dot( np.dot(V,L) , Vt)\n",
    "\n",
    "print('V*L*iV = \\n',AA)\n",
    "print('\\nA = \\n',A)"
   ]
  },
  {
   "cell_type": "code",
   "execution_count": null,
   "metadata": {},
   "outputs": [],
   "source": []
  }
 ]
}