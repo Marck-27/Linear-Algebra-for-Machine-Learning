{
 "metadata": {
  "language_info": {
   "codemirror_mode": {
    "name": "ipython",
    "version": 3
   },
   "file_extension": ".py",
   "mimetype": "text/x-python",
   "name": "python",
   "nbconvert_exporter": "python",
   "pygments_lexer": "ipython3",
   "version": "3.8.10"
  },
  "orig_nbformat": 2,
  "kernelspec": {
   "name": "python3",
   "display_name": "Python 3.8.10 64-bit"
  },
  "interpreter": {
   "hash": "31f2aee4e71d21fbe5cf8b01ff0e069b9275f58929596ceb00d14d90e3e16cd6"
  }
 },
 "nbformat": 4,
 "nbformat_minor": 2,
 "cells": [
  {
   "source": [
    "## Proyecto: Aplicación de la descomposición e valores singulares para resolver sistemas lineales con más ecuaciones que incógnitas\n",
    "\n",
    "### Dado el sistema $Ax = b$, donde, $A$ es una matriz de $m \\times n$ con $m > n$,\n",
    "\n",
    "### la solución esta dada por: $x = A_{p}^{-1} b$, \n",
    "\n",
    "### donde $A_{p}^{-1}$ se conoce como \"Pseudo inversa de Moore-Penrose\".\n",
    "\n",
    "### Podemos obtener $A_{p}^{-1}$ mediante `np.linalg.pinv(A)` \n",
    "\n",
    "### o bien podemos usar descomposición en valores singulares para calcular $A_{p}^{-1}$"
   ],
   "cell_type": "markdown",
   "metadata": {}
  },
  {
   "cell_type": "code",
   "execution_count": 8,
   "metadata": {},
   "outputs": [],
   "source": [
    "import numpy as np\n",
    "\n",
    "np.set_printoptions(suppress=True)# <-- permite imprimir valores muy cercanos a cero, redondeados a cero"
   ]
  },
  {
   "cell_type": "code",
   "execution_count": 9,
   "metadata": {},
   "outputs": [
    {
     "output_type": "stream",
     "name": "stdout",
     "text": [
      "A = \n [[ 2  3  1]\n [ 1  5  7]\n [ 0 11 13]\n [ 3  0  1]\n [ 1  8 -1]]\n\nA tiene  5 renglones y  3  columnas\n"
     ]
    }
   ],
   "source": [
    "# Matriz de 'm x n' con 'm > n'\n",
    "#A = np.array([ [2,3],[5,7],[11,13] ])\n",
    "A = np.array([ [2,3,1],[1,5,7],[0,11,13], [3,0,1] , [1,8,-1] ])\n",
    "\n",
    "# obtenemos numero de renglones y comumnas de A:\n",
    "m,n = A.shape\n",
    "\n",
    "print('A = \\n', A)\n",
    "print('\\nA tiene ',m, 'renglones y ',n,' columnas')"
   ]
  },
  {
   "cell_type": "code",
   "execution_count": 10,
   "metadata": {},
   "outputs": [
    {
     "output_type": "stream",
     "name": "stdout",
     "text": [
      "U = \n [[-0.14772131 -0.246021   -0.44053949 -0.83945971 -0.13742064]\n [-0.42966486  0.18655837 -0.20854037  0.26410339 -0.8169115 ]\n [-0.85356595  0.21923601  0.1971208  -0.08637476  0.4207654 ]\n [-0.044065    0.03012849 -0.84539252  0.38210599  0.36940093]\n [-0.25109752 -0.92503918  0.0942907   0.26849807 -0.01645   ]]\n\nD = \n [19.85417065  6.92471404  3.58611814]\n\nV = \n [[-0.05582706 -0.70461235 -0.70739294]\n [-0.16464757 -0.69230129  0.70257391]\n [-0.9847713   0.15569317 -0.07736356]]\n"
     ]
    }
   ],
   "source": [
    "# Obtenemos la descomposicion SVD:\n",
    "U,D,V = np.linalg.svd(A)\n",
    "\n",
    "print('U = \\n',U)\n",
    "\n",
    "print('\\nD = \\n', D)\n",
    "\n",
    "print('\\nV = \\n',V)\n"
   ]
  },
  {
   "cell_type": "code",
   "execution_count": 11,
   "metadata": {},
   "outputs": [
    {
     "output_type": "stream",
     "name": "stdout",
     "text": [
      "inv(D) = \n [[0.05036725 0.         0.        ]\n [0.         0.1444103  0.        ]\n [0.         0.         0.27885305]]\n\nDpse = \n [[0.05036725 0.         0.         0.         0.        ]\n [0.         0.1444103  0.         0.         0.        ]\n [0.         0.         0.27885305 0.         0.        ]]\n"
     ]
    }
   ],
   "source": [
    "# Construimos la pseudo diagonal 'D_pse':\n",
    "\n",
    "# Obtenemos el iverso de los valores singulares:\n",
    "D_inv = 1/D\n",
    "# convertimos a matriz diagonal:\n",
    "D_inv = np.diag(D_inv) #<-- matriz de 'n x n'\n",
    "print('inv(D) = \\n',D_inv)\n",
    "\n",
    "# Matriz pseudo diagonal de 'n x m' (recodemos que 'm > n')\n",
    "D_pse = np.zeros([n,m])\n",
    "D_pse[0:n , 0:n] = D_inv\n",
    "print('\\nDpse = \\n',D_pse)"
   ]
  },
  {
   "cell_type": "code",
   "execution_count": 12,
   "metadata": {},
   "outputs": [
    {
     "output_type": "stream",
     "name": "stdout",
     "text": [
      "\nApse = \n [[ 0.12723997  0.05403893 -0.05694328  0.23155782 -0.00319231]\n [ 0.01071235 -0.0124566   0.01693242 -0.03815142  0.10548617]\n [-0.01019401  0.03873558  0.04840302  0.02286452 -0.08694114]]\n"
     ]
    }
   ],
   "source": [
    "# Construcción de la pseudo inversa de A:\n",
    "\n",
    "A_pse = np.dot( V.T , np.dot(D_pse , U.T) )\n",
    "\n",
    "print('\\nApse = \\n',A_pse)"
   ]
  },
  {
   "cell_type": "code",
   "execution_count": 13,
   "metadata": {},
   "outputs": [
    {
     "output_type": "execute_result",
     "data": {
      "text/plain": [
       "array([[ 0.12723997,  0.05403893, -0.05694328,  0.23155782, -0.00319231],\n",
       "       [ 0.01071235, -0.0124566 ,  0.01693242, -0.03815142,  0.10548617],\n",
       "       [-0.01019401,  0.03873558,  0.04840302,  0.02286452, -0.08694114]])"
      ]
     },
     "metadata": {},
     "execution_count": 13
    }
   ],
   "source": [
    "# Comprobación con la función 'np.linalg.pinv':\n",
    "A_pse2=np.linalg.pinv(A)\n",
    "A_pse2\n"
   ]
  },
  {
   "cell_type": "code",
   "execution_count": 14,
   "metadata": {},
   "outputs": [
    {
     "output_type": "execute_result",
     "data": {
      "text/plain": [
       "array([[ 1., -0.,  0.],\n",
       "       [-0.,  1., -0.],\n",
       "       [ 0.,  0.,  1.]])"
      ]
     },
     "metadata": {},
     "execution_count": 14
    }
   ],
   "source": [
    "np.dot(A_pse,A)"
   ]
  },
  {
   "cell_type": "code",
   "execution_count": null,
   "metadata": {},
   "outputs": [],
   "source": []
  }
 ]
}